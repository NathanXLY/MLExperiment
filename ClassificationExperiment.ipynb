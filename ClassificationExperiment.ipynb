{
 "cells": [
  {
   "cell_type": "code",
   "execution_count": 3,
   "metadata": {},
   "outputs": [
    {
     "data": {
      "image/png": "[encoded data removed]",
      "text/plain": [
       "<matplotlib.figure.Figure at 0x219f74d7748>"
      ]
     },
     "metadata": {},
     "output_type": "display_data"
    }
   ],
   "source": [
    "#!/usr/bin/python\n",
    "# -*- coding: utf-8 -*-\n",
    "\"\"\"\n",
    "-------------------------------------------------\n",
    "   File Name：     LinearClassification\n",
    "   Description :\n",
    "   Author :       Nathan\n",
    "   date：          2017/12/2\n",
    "-------------------------------------------------\n",
    "   Change Activity:\n",
    "                   2017/12/2:\n",
    "-------------------------------------------------\n",
    "\"\"\"\n",
    "__author__ = 'Nathan'\n",
    "\n",
    "from sklearn.datasets import load_svmlight_file\n",
    "from sklearn.model_selection import train_test_split\n",
    "import numpy as np\n",
    "import matplotlib.pyplot as plt\n",
    "\n",
    "plt.rcParams['font.sans-serif']=['SimHei'] #用来正常显示中文标签\n",
    "plt.rcParams['axes.unicode_minus']=False #用来正常显示负号\n",
    "\n",
    "def compute_error(W,X_test,y_test):\n",
    "    L=0\n",
    "    N=y_test.shape[0]\n",
    "    for i in range(y_test.shape[0]):\n",
    "        L+=max(0,1-y_test[i]*np.dot(W.transpose(),X_test[i]))\n",
    "    return L*1.0/N\n",
    "\n",
    "\n",
    "def compute_gradient(W,X_train, y_train):\n",
    "    L_dW=np.repeat(0.,X_train.shape[1])\n",
    "    for i in range(y_train.shape[0]):\n",
    "        if y_train[i]*(np.dot(W.transpose(),X_train[i]))<1:\n",
    "            L_dW+=-y_train[i]*X_train[i]\n",
    "        else:\n",
    "            pass\n",
    "    return L_dW\n",
    "\n",
    "def SVM_train(X_train, y_train,W_start,learning_rate):\n",
    "    W = W_start\n",
    "    W=W-learning_rate*compute_gradient(W,X_train, y_train)\n",
    "    return W\n",
    "\n",
    "def shuffle(X,y):\n",
    "    rng_state = np.random.get_state()\n",
    "    np.random.shuffle(X)\n",
    "    np.random.set_state(rng_state)\n",
    "    np.random.shuffle(y)\n",
    "    return X,y\n",
    "\n",
    "def getdata():\n",
    "    X, y = load_svmlight_file(r'C:\\Users\\jy\\Desktop\\Libsvmdata\\australian_scale.txt')\n",
    "    X = np.c_[np.ones(len(X.toarray())), X.toarray()]\n",
    "    X_train, X_test, y_train, y_test = train_test_split(X, y, test_size=0.33, random_state=42)\n",
    "    X_train, y_train = shuffle(X_train, y_train)\n",
    "    X_test, y_test = shuffle(X_test, y_test)\n",
    "    return X_train, X_test, y_train, y_test\n",
    "\n",
    "def SVMModel():\n",
    "    X_train, X_test, y_train, y_test=getdata()\n",
    "    learning_rate = 0.0001\n",
    "    iter_num = 300\n",
    "    train_error=[]\n",
    "    test_error=[]\n",
    "    W = np.random.rand(X_train.shape[1])\n",
    "    for i in range(iter_num):\n",
    "        W=SVM_train(X_train, y_train,W,learning_rate)\n",
    "        train_error.append(compute_error(W,X_train,y_train))\n",
    "        test_error.append(compute_error(W,X_test,y_test))\n",
    "\n",
    "    plt.xlabel('Iteration')\n",
    "    plt.ylabel('Loss')\n",
    "    plt.plot(range(iter_num), train_error,label=\"train error\")\n",
    "    plt.plot(range(iter_num), test_error, label=\"test error\")\n",
    "    plt.legend()\n",
    "    plt.show()\n",
    "\n",
    "SVMModel()\n"
   ]
  },
  {
   "cell_type": "code",
   "execution_count": null,
   "metadata": {
    "collapsed": true
   },
   "outputs": [],
   "source": []
  }
 ],
 "metadata": {
  "kernelspec": {
   "display_name": "Python 3",
   "language": "python",
   "name": "python3"
  },
  "language_info": {
   "codemirror_mode": {
    "name": "ipython",
    "version": 3
   },
   "file_extension": ".py",
   "mimetype": "text/x-python",
   "name": "python",
   "nbconvert_exporter": "python",
   "pygments_lexer": "ipython3",
   "version": "3.6.2"
  }
 },
 "nbformat": 4,
 "nbformat_minor": 2
}
