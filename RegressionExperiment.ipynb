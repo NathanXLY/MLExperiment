{
 "cells": [
  {
   "cell_type": "markdown",
   "metadata": {},
   "source": [
    "# LinearRegression"
   ]
  },
  {
   "cell_type": "code",
   "execution_count": 9,
   "metadata": {
    "scrolled": false
   },
   "outputs": [
    {
     "data": {
      "image/png": "[encoded data removed]",
      "text/plain": [
       "<matplotlib.figure.Figure at 0x1eea2121a58>"
      ]
     },
     "metadata": {},
     "output_type": "display_data"
    }
   ],
   "source": [
    "#!/usr/bin/python\n",
    "# -*- coding: utf-8 -*-\n",
    "\"\"\"\n",
    "-------------------------------------------------\n",
    "   File Name：     LabTest\n",
    "   Description :\n",
    "   Author :       Nathan\n",
    "   date：          2017/12/1\n",
    "-------------------------------------------------\n",
    "   Change Activity:\n",
    "                   2017/12/1:\n",
    "-------------------------------------------------\n",
    "\"\"\"\n",
    "from random import random\n",
    "\n",
    "__author__ = 'Nathan'\n",
    "\n",
    "from sklearn.datasets import load_svmlight_file\n",
    "from sklearn.model_selection import train_test_split\n",
    "import numpy as np\n",
    "import matplotlib.pyplot as plt\n",
    "\n",
    "def compute_error(W,X_test,y_test):\n",
    "    # L=0\n",
    "    # for i in range(y_test.shape[0]):\n",
    "    #     L+=0.5*((y_test[i]-np.dot(W.transpose(),X_test[i]))**2)\n",
    "    # return L\n",
    "    N=X_test.shape[0]\n",
    "    loss=np.matmul(y_test.T,y_test)-2*np.matmul(np.matmul(W.T,X_test.T),y_test)+np.matmul(np.matmul(np.matmul(W.T,X_test.T),X_test),W)\n",
    "    return np.linalg.det(loss)/N\n",
    "\n",
    "\n",
    "def compute_gradient(W,X_train,Y_train):\n",
    "    L=np.dot(-X_train.transpose(),Y_train)+np.dot(np.dot(X_train.transpose(),X_train),W)\n",
    "    return L\n",
    "\n",
    "def optimizer(X_train,y_trian,W_start,learning_rate):\n",
    "    W=W_start\n",
    "    W=W-learning_rate*compute_gradient(W,X_train,y_trian)\n",
    "    return W\n",
    "\n",
    "def shuffle(X,y):\n",
    "    rng_state = np.random.get_state()\n",
    "    np.random.shuffle(X)\n",
    "    np.random.set_state(rng_state)\n",
    "    np.random.shuffle(y)\n",
    "    return X,y\n",
    "\n",
    "def getdata():\n",
    "    X, y = load_svmlight_file(r'C:\\Users\\jy\\Desktop\\Libsvmdata\\housing_scale.txt')\n",
    "    X = np.c_[np.ones(len(X.toarray())), X.toarray()]\n",
    "    X_train, X_test, y_train, y_test = train_test_split(X, y, test_size=0.33, random_state=42)\n",
    "    y_train = y_train.reshape([len(y_train), 1])\n",
    "    y_test = y_test.reshape([len(y_test), 1])\n",
    "    X_train, y_train = shuffle(X_train, y_train)\n",
    "    X_test,y_test=shuffle(X_test,y_test)\n",
    "    return X_train, X_test, y_train, y_test\n",
    "\n",
    "def linearmodel():\n",
    "    X_train, X_test, y_train, y_test = getdata()\n",
    "    W = np.random.rand(14,1)\n",
    "    learning_rate = 0.0001\n",
    "    iter_num=50\n",
    "    test_error=[]\n",
    "    train_error=[]\n",
    "    for i in range(iter_num):\n",
    "        W=optimizer(X_train,y_train,W,learning_rate)\n",
    "        test_error.append(compute_error(W,X_test,y_test))\n",
    "        train_error.append(compute_error(W,X_train,y_train))\n",
    "\n",
    "    plt.xlabel('Iteration')\n",
    "    plt.ylabel('Loss')\n",
    "    plt.plot(range(iter_num),test_error,label=\"validation error\")\n",
    "    plt.plot(range(iter_num), train_error, label=\"train error\")\n",
    "    plt.legend()\n",
    "    plt.show()\n",
    "\n",
    "linearmodel()"
   ]
  },
  {
   "cell_type": "code",
   "execution_count": null,
   "metadata": {
    "collapsed": true
   },
   "outputs": [],
   "source": []
  }
 ],
 "metadata": {
  "kernelspec": {
   "display_name": "Python 3",
   "language": "python",
   "name": "python3"
  },
  "language_info": {
   "codemirror_mode": {
    "name": "ipython",
    "version": 3
   },
   "file_extension": ".py",
   "mimetype": "text/x-python",
   "name": "python",
   "nbconvert_exporter": "python",
   "pygments_lexer": "ipython3",
   "version": "3.6.2"
  }
 },
 "nbformat": 4,
 "nbformat_minor": 2
}
